{
 "cells": [
  {
   "cell_type": "markdown",
   "metadata": {},
   "source": [
    "# Kanren - Estudo de programação lógica"
   ]
  },
  {
   "cell_type": "code",
   "execution_count": 16,
   "metadata": {},
   "outputs": [],
   "source": [
    "from kanren import Relation, fact, facts, run, var, eq"
   ]
  },
  {
   "cell_type": "markdown",
   "metadata": {},
   "source": [
    "miniKanren é uma biblioteca para programação relacional, projetada para criar relações bidirecionais (ou seja, você pode tratar entradas e saídas de forma intercambiável). É minimalista e foi originalmente implementada em Scheme, mas hoje está disponível em Python como o pacote"
   ]
  },
  {
   "cell_type": "markdown",
   "metadata": {},
   "source": [
    "## var, run e eq"
   ]
  },
  {
   "cell_type": "markdown",
   "metadata": {},
   "source": [
    "`var` é uma classe cujo objeto se declara como variável lógica. Atribuimos ests objetos a difentes chamadas para deteminar que certas variáveis são diferentes.  \n",
    "É imperativo criar objetos e não usar a classe diretamente, porque sua alocação na memória é o que conecta as verificações com as lacunas a serem preenchidas."
   ]
  },
  {
   "cell_type": "code",
   "execution_count": 4,
   "metadata": {},
   "outputs": [
    {
     "name": "stdout",
     "output_type": "stream",
     "text": [
      "<class 'unification.variable.Var'>\n",
      "~_2\n"
     ]
    }
   ],
   "source": [
    "# Criar uma variável lógica\n",
    "x = var()\n",
    "\n",
    "print(type(x))\n",
    "print(x)"
   ]
  },
  {
   "cell_type": "markdown",
   "metadata": {},
   "source": [
    "`eq` é similar ao `lambda`: uma função que empresta a sua lógica a alguma tarefa.  \n",
    "Ele retorna não um produto de uma função (como True e False, ou algum valor ou string), mas sim uma outra função."
   ]
  },
  {
   "cell_type": "code",
   "execution_count": 8,
   "metadata": {},
   "outputs": [
    {
     "name": "stdout",
     "output_type": "stream",
     "text": [
      "<class 'function'>\n"
     ]
    }
   ],
   "source": [
    "goal = eq(x, 5)\n",
    "\n",
    "print(type(goal))"
   ]
  },
  {
   "cell_type": "code",
   "execution_count": null,
   "metadata": {},
   "outputs": [
    {
     "name": "stdout",
     "output_type": "stream",
     "text": [
      "Help on function goal_eq in module kanren.core:\n",
      "\n",
      "goal_eq(s)\n",
      "\n"
     ]
    }
   ],
   "source": [
    "help(goal)"
   ]
  },
  {
   "cell_type": "markdown",
   "metadata": {},
   "source": [
    "`run` é uma função que retorna tudo que satisfaça a verificação em seu objetivo (goal)."
   ]
  },
  {
   "cell_type": "markdown",
   "metadata": {},
   "source": [
    "Na célula abaixo, utilizei `run` para procurar itens que, ocupando o espaço da variável declarada, satisfaçam a verificação lógica."
   ]
  },
  {
   "cell_type": "code",
   "execution_count": 13,
   "metadata": {},
   "outputs": [
    {
     "name": "stdout",
     "output_type": "stream",
     "text": [
      "(5,)\n"
     ]
    }
   ],
   "source": [
    "# Consultar valores que satisfazem a equação x == 5\n",
    "\n",
    "x = var() # variável lógica, usada tanto na criação da função de verificação quanto na busca do resultado.\n",
    "\n",
    "resultado = run(1, # número de resultados que queremos obter\n",
    "                x, # encontre valores para x que\n",
    "                eq(x, 5) # satisfaçam a equação 'x equal 5'\n",
    "                )\n",
    "\n",
    "print(resultado)  # Saída: (5,)"
   ]
  }
 ],
 "metadata": {
  "kernelspec": {
   "display_name": "base",
   "language": "python",
   "name": "python3"
  },
  "language_info": {
   "codemirror_mode": {
    "name": "ipython",
    "version": 3
   },
   "file_extension": ".py",
   "mimetype": "text/x-python",
   "name": "python",
   "nbconvert_exporter": "python",
   "pygments_lexer": "ipython3",
   "version": "3.9.12"
  }
 },
 "nbformat": 4,
 "nbformat_minor": 2
}
