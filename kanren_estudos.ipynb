{
 "cells": [
  {
   "cell_type": "markdown",
   "metadata": {},
   "source": [
    "# Kanren - Estudo de programação lógica"
   ]
  },
  {
   "cell_type": "code",
   "execution_count": 102,
   "metadata": {},
   "outputs": [],
   "source": [
    "from kanren import Relation, fact, facts, run, var, eq, lall, lany"
   ]
  },
  {
   "cell_type": "markdown",
   "metadata": {},
   "source": [
    "miniKanren é uma biblioteca para programação relacional, projetada para criar relações bidirecionais (ou seja, você pode tratar entradas e saídas de forma intercambiável). É minimalista e foi originalmente implementada em Scheme, mas hoje está disponível em Python como o pacote"
   ]
  },
  {
   "cell_type": "markdown",
   "metadata": {},
   "source": [
    "## var, run e eq"
   ]
  },
  {
   "cell_type": "markdown",
   "metadata": {},
   "source": [
    "`var` é uma classe cujo objeto se declara como variável lógica. Atribuimos ests objetos a difentes chamadas para deteminar que certas variáveis são diferentes.  \n",
    "É imperativo criar objetos e não usar a classe diretamente, porque sua alocação na memória é o que conecta as verificações com as lacunas a serem preenchidas."
   ]
  },
  {
   "cell_type": "code",
   "execution_count": 48,
   "metadata": {},
   "outputs": [
    {
     "name": "stdout",
     "output_type": "stream",
     "text": [
      "<class 'unification.variable.Var'>\n",
      "~_14\n"
     ]
    }
   ],
   "source": [
    "# Criar uma variável lógica\n",
    "x = var()\n",
    "\n",
    "print(type(x))\n",
    "print(x)"
   ]
  },
  {
   "cell_type": "markdown",
   "metadata": {},
   "source": [
    "`eq` é similar ao `lambda`: uma função que empresta a sua lógica a alguma tarefa.  \n",
    "Ele retorna não um produto de uma função (como True e False, ou algum valor ou string), mas sim uma outra função."
   ]
  },
  {
   "cell_type": "code",
   "execution_count": 49,
   "metadata": {},
   "outputs": [
    {
     "name": "stdout",
     "output_type": "stream",
     "text": [
      "<class 'function'>\n"
     ]
    }
   ],
   "source": [
    "goal = eq(x, 5)\n",
    "\n",
    "print(type(goal))"
   ]
  },
  {
   "cell_type": "code",
   "execution_count": 50,
   "metadata": {},
   "outputs": [
    {
     "name": "stdout",
     "output_type": "stream",
     "text": [
      "Help on function goal_eq in module kanren.core:\n",
      "\n",
      "goal_eq(s)\n",
      "\n"
     ]
    }
   ],
   "source": [
    "help(goal)"
   ]
  },
  {
   "cell_type": "markdown",
   "metadata": {},
   "source": [
    "`run` é uma função que retorna tudo que satisfaça a verificação em seu objetivo (goal)."
   ]
  },
  {
   "cell_type": "markdown",
   "metadata": {},
   "source": [
    "Na célula abaixo, utilizei `run` para procurar itens que, ocupando o espaço da variável declarada, satisfaçam a verificação lógica."
   ]
  },
  {
   "cell_type": "code",
   "execution_count": 51,
   "metadata": {},
   "outputs": [
    {
     "name": "stdout",
     "output_type": "stream",
     "text": [
      "(5,)\n"
     ]
    }
   ],
   "source": [
    "x = var() # variável lógica, usada tanto na criação da função de verificação quanto na busca do resultado.\n",
    "\n",
    "resultado = run(1, # número de resultados que queremos obter\n",
    "                x, # encontre valores para x que\n",
    "                eq(x, 5) # satisfaçam a equação 'x equal 5'\n",
    "                )\n",
    "\n",
    "print(resultado)  # Saída: (5,)"
   ]
  },
  {
   "cell_type": "markdown",
   "metadata": {},
   "source": [
    "A célula acima exige 1 valor que, atribuido a x, garante que x==5. O único resultado possível seria 5.  \n",
    "Abaixo, o número de valores retornados exigidos é 0, o que implica em não haver limites."
   ]
  },
  {
   "cell_type": "code",
   "execution_count": 52,
   "metadata": {},
   "outputs": [
    {
     "data": {
      "text/plain": [
       "(5,)"
      ]
     },
     "execution_count": 52,
     "metadata": {},
     "output_type": "execute_result"
    }
   ],
   "source": [
    "run(0, x, eq(x, 5))"
   ]
  },
  {
   "cell_type": "markdown",
   "metadata": {},
   "source": [
    "## Relações e Fatos"
   ]
  },
  {
   "cell_type": "markdown",
   "metadata": {},
   "source": [
    "Relações são objetos que agregam arestas entre dois ou mais objetos.  \n",
    "Para a maioria das relações, strings são alocadas nas relação."
   ]
  },
  {
   "cell_type": "code",
   "execution_count": 53,
   "metadata": {},
   "outputs": [],
   "source": [
    "pai = Relation()"
   ]
  },
  {
   "cell_type": "markdown",
   "metadata": {},
   "source": [
    "Na linha acima, criamos uma relação e a chamaremos como `pai`."
   ]
  },
  {
   "cell_type": "code",
   "execution_count": 54,
   "metadata": {},
   "outputs": [],
   "source": [
    "fact(pai, \"Homer\", \"Bart\") # Fato: há uma relação de pai de Homer para Bart\n",
    "fact(pai, \"Homer\", \"Lisa\") # Fato: há uma relação de pai de Homer para Lisa\n",
    "fact(pai, \"Abe\", \"Homer\") # Fato: há uma relação de pai de Abe para Homer"
   ]
  },
  {
   "cell_type": "markdown",
   "metadata": {},
   "source": [
    "Com `fact`, colocamos dentro da relação `pai` todas as relações cabíveis pelas strings.  \n",
    "Toda string \"Homer\" é `pai` de toda string \"Bart\".  \n",
    "Toda string \"Homer\" é `pai` de toda string \"Lisa\".  \n",
    "Toda string \"Abe\" é `pai` de toda string \"Homer\"."
   ]
  },
  {
   "cell_type": "markdown",
   "metadata": {},
   "source": [
    "Uma relação não apenas agrega arestas, mas também funciona como verificação lógica para requisições `run`.  \n",
    "Aquela relação é um universo onde a lógica busca completude."
   ]
  },
  {
   "cell_type": "code",
   "execution_count": 55,
   "metadata": {},
   "outputs": [
    {
     "data": {
      "text/plain": [
       "('Lisa', 'Bart')"
      ]
     },
     "execution_count": 55,
     "metadata": {},
     "output_type": "execute_result"
    }
   ],
   "source": [
    "# Homer é pai quem?\n",
    "run(0, x, pai(\"Homer\", x))"
   ]
  },
  {
   "cell_type": "code",
   "execution_count": 56,
   "metadata": {},
   "outputs": [
    {
     "data": {
      "text/plain": [
       "('Abe',)"
      ]
     },
     "execution_count": 56,
     "metadata": {},
     "output_type": "execute_result"
    }
   ],
   "source": [
    "# Quem é pai de Homer?\n",
    "run(0, x, pai(x, \"Homer\"))"
   ]
  },
  {
   "cell_type": "markdown",
   "metadata": {},
   "source": [
    "Nas duas linhas acima, foram feitas duas consultas diferentes usando a mesma string, a mesma variável e a mesma relação, mudando apenas a cardinalidade."
   ]
  },
  {
   "cell_type": "code",
   "execution_count": 57,
   "metadata": {},
   "outputs": [
    {
     "data": {
      "text/plain": [
       "()"
      ]
     },
     "execution_count": 57,
     "metadata": {},
     "output_type": "execute_result"
    }
   ],
   "source": [
    "run(0,x, pai(x, \"Bart\"), pai(x, \"Homer\"))"
   ]
  },
  {
   "cell_type": "markdown",
   "metadata": {},
   "source": [
    "Aqui, duas condições são fornecidas.  \n",
    "Todas as condições fornecidas como argumento separadamente são validadas adicionalmente: \"E\".  \n",
    "Na linha acima, busca-se uma string que seja seja pai de \"Bart\" e pai de \"Homer\", mas nenhum objeto cumpre esses dois quesitos."
   ]
  },
  {
   "cell_type": "code",
   "execution_count": 58,
   "metadata": {},
   "outputs": [
    {
     "data": {
      "text/plain": [
       "('Abe',)"
      ]
     },
     "execution_count": 58,
     "metadata": {},
     "output_type": "execute_result"
    }
   ],
   "source": [
    "y = var()\n",
    "\n",
    "# Quem é avô de Bart?\n",
    "run(0, x, pai(y, \"Bart\"), pai(x, y))"
   ]
  },
  {
   "cell_type": "markdown",
   "metadata": {},
   "source": [
    "Usando combinações lógicas e uma variável adicional, é possível encontrar relações multi-arestas.  \n",
    "Na célula acima, procura-se um objeto x que cumpra esses requisitos: x é mais de y E y é pai de \"Bart\".  \n",
    "Ou seja, o pai do pai do Bart, seu avô."
   ]
  },
  {
   "cell_type": "markdown",
   "metadata": {},
   "source": [
    "## Múltiplas variáveis"
   ]
  },
  {
   "cell_type": "markdown",
   "metadata": {},
   "source": [
    "As variáveis X e Y já foram declaradas mais acima, então podemos utilizá-las no nosso próximo exemplo:"
   ]
  },
  {
   "cell_type": "code",
   "execution_count": 64,
   "metadata": {},
   "outputs": [
    {
     "name": "stdout",
     "output_type": "stream",
     "text": [
      "(['Homer', 'Homer'], ['Lisa', 'Lisa'], ['Bart', 'Lisa'], ['Lisa', 'Bart'], ['Bart', 'Bart'])\n"
     ]
    }
   ],
   "source": [
    "z = var()\n",
    "\n",
    "# Quem são irmãos?\n",
    "irmãos = run(0, [x,y], pai(z, x), pai(z, y))\n",
    "\n",
    "print(irmãos)"
   ]
  },
  {
   "cell_type": "markdown",
   "metadata": {},
   "source": [
    "Aqui encontramos um problema: miniKanren não possui mais verificação disassociativa. Isso nos deixa com listas de valores suplicadas.  \n",
    "Por ora, resolveremos isso com a boa e velha lógica do mais puro Python."
   ]
  },
  {
   "cell_type": "code",
   "execution_count": 69,
   "metadata": {},
   "outputs": [
    {
     "name": "stdout",
     "output_type": "stream",
     "text": [
      "[['Bart', 'Lisa'], ['Lisa', 'Bart']]\n"
     ]
    }
   ],
   "source": [
    "irmãos_reais = []\n",
    "for i in range(len(irmãos)):\n",
    "    if irmãos[i][0] != irmãos[i][1]:\n",
    "        irmãos_reais.append(irmãos[i])\n",
    "\n",
    "print(irmãos_reais)"
   ]
  },
  {
   "cell_type": "markdown",
   "metadata": {},
   "source": [
    "Isso ainda nos deixa com uma repetição de nomes devido à combinação ser diferente, mas isso será tema para outro capítulo."
   ]
  },
  {
   "cell_type": "markdown",
   "metadata": {},
   "source": [
    "## Bicondicionalidade e funções"
   ]
  },
  {
   "cell_type": "markdown",
   "metadata": {},
   "source": [
    "Sabemos que, se X é pai de Y, Y é filho de X.  \n",
    "Embora seja redundante, isto serve de demonstração de como múltiplas relações podem ser atribuídas simultaneamente."
   ]
  },
  {
   "cell_type": "code",
   "execution_count": 71,
   "metadata": {},
   "outputs": [],
   "source": [
    "filho = Relation()\n",
    "\n",
    "def pai_e_filho(pai_nome, filho_nome,pai_relação=pai,filho_relação=filho):\n",
    "    fact(pai_relação, pai_nome, filho_nome)\n",
    "    fact(filho_relação, filho_nome, pai_nome)\n",
    "\n",
    "pai_e_filho(\"José\", \"Jesus\")"
   ]
  },
  {
   "cell_type": "markdown",
   "metadata": {},
   "source": [
    "Essa função associa, simultaneamente, o pai ao filho e o filho ao pai."
   ]
  },
  {
   "cell_type": "code",
   "execution_count": null,
   "metadata": {},
   "outputs": [
    {
     "data": {
      "text/plain": [
       "('José',)"
      ]
     },
     "execution_count": 72,
     "metadata": {},
     "output_type": "execute_result"
    }
   ],
   "source": [
    "#Quem é pai de Jesus?\n",
    "\n",
    "run(0, x, pai(x, \"Jesus\"))"
   ]
  },
  {
   "cell_type": "code",
   "execution_count": null,
   "metadata": {},
   "outputs": [
    {
     "data": {
      "text/plain": [
       "('José',)"
      ]
     },
     "execution_count": 73,
     "metadata": {},
     "output_type": "execute_result"
    }
   ],
   "source": [
    "# Jesus é filho de quem?\n",
    "\n",
    "run(0, x, filho(\"Jesus\",x))"
   ]
  },
  {
   "cell_type": "markdown",
   "metadata": {},
   "source": [
    "Podemos tentar associar irmãos quando um pai é associado a um filho."
   ]
  },
  {
   "cell_type": "code",
   "execution_count": 83,
   "metadata": {},
   "outputs": [],
   "source": [
    "irmão = Relation()\n",
    "\n",
    "def nasce_um_filho(pai_nome, filho_nome,pai_relação=pai,filho_relação=filho):\n",
    "    fact(pai_relação, pai_nome, filho_nome)\n",
    "    fact(filho_relação, filho_nome, pai_nome)\n",
    "    filhos_mais_velhos = run(0, x, pai_relação(pai_nome, x))\n",
    "    for filho in filhos_mais_velhos:\n",
    "        if filho != filho_nome:\n",
    "            fact(irmão, filho, filho_nome)\n",
    "            fact(irmão, filho_nome, filho)"
   ]
  },
  {
   "cell_type": "code",
   "execution_count": null,
   "metadata": {},
   "outputs": [
    {
     "data": {
      "text/plain": [
       "()"
      ]
     },
     "execution_count": 84,
     "metadata": {},
     "output_type": "execute_result"
    }
   ],
   "source": [
    "# Nasce o primeiro filho:\n",
    "nasce_um_filho(\"Paizão\", \"Filho 1\")\n",
    "\n",
    "run(0, x, irmão(\"Filho 1\", x))\n",
    "# Sem irmãos ainda."
   ]
  },
  {
   "cell_type": "code",
   "execution_count": 91,
   "metadata": {},
   "outputs": [
    {
     "name": "stdout",
     "output_type": "stream",
     "text": [
      "São irmãos do Filho 2: ('Filho 3', 'Filho 1')\n",
      "O Filho 2 é irmão de: ('Filho 3', 'Filho 1')\n",
      "\n",
      "São irmãos do Filho 1: ('Filho 3', 'Filho 2')\n",
      "O Filho 1 é irmão de: ('Filho 3', 'Filho 2')\n"
     ]
    }
   ],
   "source": [
    "# Nasce o segundo filho:\n",
    "nasce_um_filho(\"Paizão\", \"Filho 2\")\n",
    "\n",
    "print('São irmãos do Filho 2:',run(0, x, irmão(\"Filho 2\", x)))\n",
    "print('O Filho 2 é irmão de:',run(0, x, irmão(x,\"Filho 2\")))\n",
    "\n",
    "print()\n",
    "\n",
    "print('São irmãos do Filho 1:',run(0, x, irmão(\"Filho 1\", x)))\n",
    "print('O Filho 1 é irmão de:',run(0, x, irmão(x,\"Filho 1\")))"
   ]
  },
  {
   "cell_type": "code",
   "execution_count": 90,
   "metadata": {},
   "outputs": [
    {
     "name": "stdout",
     "output_type": "stream",
     "text": [
      "São irmãos do Filho 3: ('Filho 2', 'Filho 1')\n",
      "O Filho 3 é irmão de: ('Filho 2', 'Filho 1')\n",
      "\n",
      "São irmãos do Filho 2: ('Filho 3', 'Filho 1')\n",
      "O Filho 2 é irmão de: ('Filho 3', 'Filho 1')\n",
      "\n",
      "São irmãos do Filho 1: ('Filho 3', 'Filho 2')\n",
      "O Filho 1 é irmão de: ('Filho 3', 'Filho 2')\n"
     ]
    }
   ],
   "source": [
    "# Nasce o terceiro filho:\n",
    "nasce_um_filho(\"Paizão\", \"Filho 3\")\n",
    "\n",
    "print('São irmãos do Filho 3:',run(0, x, irmão(\"Filho 3\", x)))\n",
    "print('O Filho 3 é irmão de:',run(0, x, irmão(x,\"Filho 3\")))\n",
    "\n",
    "print()\n",
    "\n",
    "print('São irmãos do Filho 2:',run(0, x, irmão(\"Filho 2\", x)))\n",
    "print('O Filho 2 é irmão de:',run(0, x, irmão(x,\"Filho 2\")))\n",
    "\n",
    "print()\n",
    "\n",
    "print('São irmãos do Filho 1:',run(0, x, irmão(\"Filho 1\", x)))\n",
    "print('O Filho 1 é irmão de:',run(0, x, irmão(x,\"Filho 1\")))"
   ]
  },
  {
   "cell_type": "markdown",
   "metadata": {},
   "source": [
    "## lany e lall"
   ]
  },
  {
   "cell_type": "markdown",
   "metadata": {},
   "source": [
    "A função `lany` é usada para combinar múltiplos objetivos em uma lista lógica onde pelo menos um dos objetivos deve ser satisfeito. Em outras palavras, lany representa uma disjunção lógica (OR) de múltiplos objetivos."
   ]
  },
  {
   "cell_type": "code",
   "execution_count": 94,
   "metadata": {},
   "outputs": [
    {
     "data": {
      "text/plain": [
       "(1, 2, 3)"
      ]
     },
     "execution_count": 94,
     "metadata": {},
     "output_type": "execute_result"
    }
   ],
   "source": [
    "run(0, x, lany(eq(x, 1), eq(x, 2), eq(x, 3)))"
   ]
  },
  {
   "cell_type": "markdown",
   "metadata": {},
   "source": [
    "Nesta linha, vemos que cada item retornado cumpre ao menos um dos requisitos."
   ]
  },
  {
   "cell_type": "code",
   "execution_count": 103,
   "metadata": {},
   "outputs": [
    {
     "data": {
      "text/plain": [
       "('Homer', 'Abe')"
      ]
     },
     "execution_count": 103,
     "metadata": {},
     "output_type": "execute_result"
    }
   ],
   "source": [
    "run(0, x, lany(pai(x, 'Bart'), lall(pai(x, y), pai(y, 'Bart'))))"
   ]
  }
 ],
 "metadata": {
  "kernelspec": {
   "display_name": "base",
   "language": "python",
   "name": "python3"
  },
  "language_info": {
   "codemirror_mode": {
    "name": "ipython",
    "version": 3
   },
   "file_extension": ".py",
   "mimetype": "text/x-python",
   "name": "python",
   "nbconvert_exporter": "python",
   "pygments_lexer": "ipython3",
   "version": "3.10.9"
  }
 },
 "nbformat": 4,
 "nbformat_minor": 2
}
